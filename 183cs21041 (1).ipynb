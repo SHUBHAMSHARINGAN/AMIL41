{
 "cells": [
  {
   "cell_type": "code",
   "execution_count": 17,
   "id": "7bc15fa1",
   "metadata": {},
   "outputs": [
    {
     "name": "stdout",
     "output_type": "stream",
     "text": [
      "            sl. No  national mortality rate(per 1000*lb)  \\\n",
      "0        all india                                  26.0   \n",
      "1   madhya pradesh                                  35.0   \n",
      "2            assam                                  26.0   \n",
      "3           odisha                                  36.0   \n",
      "4    uttar pradesh                                  32.0   \n",
      "5       rajashthan                                  32.0   \n",
      "6        meghalaya                                   NaN   \n",
      "7     chhattisgarh                                  28.0   \n",
      "8            bihar                                  27.0   \n",
      "9   andhra pradesh                                  26.0   \n",
      "10         haryana                                  23.0   \n",
      "11         gujarat                                  24.0   \n",
      "12       telangana                                  25.0   \n",
      "\n",
      "    infant mortality rate(per 1000 lb)  under 5 mortality rate(per 1000 lb)  \n",
      "0                                   39                                 45.0  \n",
      "1                                   52                                 65.0  \n",
      "2                                   49                                 66.0  \n",
      "3                                   49                                 60.0  \n",
      "4                                   48                                 57.0  \n",
      "5                                   46                                 51.0  \n",
      "6                                   46                                  NaN  \n",
      "7                                   43                                 49.0  \n",
      "8                                   42                                 53.0  \n",
      "9                                   39                                 40.0  \n",
      "10                                  36                                 40.0  \n",
      "11                                  35                                 41.0  \n",
      "12                                  35                                 37.0  \n"
     ]
    }
   ],
   "source": [
    "import pandas as pd\n",
    "df=pd.read_csv(\"C:/Users/bhava/OneDrive/Pictures/Desktop/41.csv\")\n",
    "print(df)\n",
    "\n",
    "\n"
   ]
  },
  {
   "cell_type": "code",
   "execution_count": 18,
   "id": "faf460c2",
   "metadata": {},
   "outputs": [
    {
     "name": "stdout",
     "output_type": "stream",
     "text": [
      "<class 'pandas.core.frame.DataFrame'>\n",
      "RangeIndex: 13 entries, 0 to 12\n",
      "Data columns (total 4 columns):\n",
      " #   Column                                Non-Null Count  Dtype  \n",
      "---  ------                                --------------  -----  \n",
      " 0   sl. No                                13 non-null     object \n",
      " 1   national mortality rate(per 1000*lb)  12 non-null     float64\n",
      " 2   infant mortality rate(per 1000 lb)    13 non-null     int64  \n",
      " 3   under 5 mortality rate(per 1000 lb)   12 non-null     float64\n",
      "dtypes: float64(2), int64(1), object(1)\n",
      "memory usage: 544.0+ bytes\n"
     ]
    }
   ],
   "source": [
    "df.info()\n",
    "\n"
   ]
  },
  {
   "cell_type": "code",
   "execution_count": 20,
   "id": "f2f79738",
   "metadata": {},
   "outputs": [
    {
     "data": {
      "text/html": [
       "<div>\n",
       "<style scoped>\n",
       "    .dataframe tbody tr th:only-of-type {\n",
       "        vertical-align: middle;\n",
       "    }\n",
       "\n",
       "    .dataframe tbody tr th {\n",
       "        vertical-align: top;\n",
       "    }\n",
       "\n",
       "    .dataframe thead th {\n",
       "        text-align: right;\n",
       "    }\n",
       "</style>\n",
       "<table border=\"1\" class=\"dataframe\">\n",
       "  <thead>\n",
       "    <tr style=\"text-align: right;\">\n",
       "      <th></th>\n",
       "      <th>national mortality rate(per 1000*lb)</th>\n",
       "      <th>infant mortality rate(per 1000 lb)</th>\n",
       "      <th>under 5 mortality rate(per 1000 lb)</th>\n",
       "    </tr>\n",
       "  </thead>\n",
       "  <tbody>\n",
       "    <tr>\n",
       "      <th>count</th>\n",
       "      <td>12.000000</td>\n",
       "      <td>13.000000</td>\n",
       "      <td>12.000000</td>\n",
       "    </tr>\n",
       "    <tr>\n",
       "      <th>mean</th>\n",
       "      <td>28.333333</td>\n",
       "      <td>43.000000</td>\n",
       "      <td>50.333333</td>\n",
       "    </tr>\n",
       "    <tr>\n",
       "      <th>std</th>\n",
       "      <td>4.334499</td>\n",
       "      <td>5.816643</td>\n",
       "      <td>10.066446</td>\n",
       "    </tr>\n",
       "    <tr>\n",
       "      <th>min</th>\n",
       "      <td>23.000000</td>\n",
       "      <td>35.000000</td>\n",
       "      <td>37.000000</td>\n",
       "    </tr>\n",
       "    <tr>\n",
       "      <th>25%</th>\n",
       "      <td>25.750000</td>\n",
       "      <td>39.000000</td>\n",
       "      <td>40.750000</td>\n",
       "    </tr>\n",
       "    <tr>\n",
       "      <th>50%</th>\n",
       "      <td>26.500000</td>\n",
       "      <td>43.000000</td>\n",
       "      <td>50.000000</td>\n",
       "    </tr>\n",
       "    <tr>\n",
       "      <th>75%</th>\n",
       "      <td>32.000000</td>\n",
       "      <td>48.000000</td>\n",
       "      <td>57.750000</td>\n",
       "    </tr>\n",
       "    <tr>\n",
       "      <th>max</th>\n",
       "      <td>36.000000</td>\n",
       "      <td>52.000000</td>\n",
       "      <td>66.000000</td>\n",
       "    </tr>\n",
       "  </tbody>\n",
       "</table>\n",
       "</div>"
      ],
      "text/plain": [
       "       national mortality rate(per 1000*lb)  \\\n",
       "count                             12.000000   \n",
       "mean                              28.333333   \n",
       "std                                4.334499   \n",
       "min                               23.000000   \n",
       "25%                               25.750000   \n",
       "50%                               26.500000   \n",
       "75%                               32.000000   \n",
       "max                               36.000000   \n",
       "\n",
       "       infant mortality rate(per 1000 lb)  under 5 mortality rate(per 1000 lb)  \n",
       "count                           13.000000                            12.000000  \n",
       "mean                            43.000000                            50.333333  \n",
       "std                              5.816643                            10.066446  \n",
       "min                             35.000000                            37.000000  \n",
       "25%                             39.000000                            40.750000  \n",
       "50%                             43.000000                            50.000000  \n",
       "75%                             48.000000                            57.750000  \n",
       "max                             52.000000                            66.000000  "
      ]
     },
     "execution_count": 20,
     "metadata": {},
     "output_type": "execute_result"
    }
   ],
   "source": [
    "df.describe()\n"
   ]
  },
  {
   "cell_type": "code",
   "execution_count": 21,
   "id": "83088296",
   "metadata": {},
   "outputs": [
    {
     "data": {
      "text/plain": [
       "<bound method NDFrame.tail of             sl. No  national mortality rate(per 1000*lb)  \\\n",
       "0        all india                                  26.0   \n",
       "1   madhya pradesh                                  35.0   \n",
       "2            assam                                  26.0   \n",
       "3           odisha                                  36.0   \n",
       "4    uttar pradesh                                  32.0   \n",
       "5       rajashthan                                  32.0   \n",
       "6        meghalaya                                   NaN   \n",
       "7     chhattisgarh                                  28.0   \n",
       "8            bihar                                  27.0   \n",
       "9   andhra pradesh                                  26.0   \n",
       "10         haryana                                  23.0   \n",
       "11         gujarat                                  24.0   \n",
       "12       telangana                                  25.0   \n",
       "\n",
       "    infant mortality rate(per 1000 lb)  under 5 mortality rate(per 1000 lb)  \n",
       "0                                   39                                 45.0  \n",
       "1                                   52                                 65.0  \n",
       "2                                   49                                 66.0  \n",
       "3                                   49                                 60.0  \n",
       "4                                   48                                 57.0  \n",
       "5                                   46                                 51.0  \n",
       "6                                   46                                  NaN  \n",
       "7                                   43                                 49.0  \n",
       "8                                   42                                 53.0  \n",
       "9                                   39                                 40.0  \n",
       "10                                  36                                 40.0  \n",
       "11                                  35                                 41.0  \n",
       "12                                  35                                 37.0  >"
      ]
     },
     "execution_count": 21,
     "metadata": {},
     "output_type": "execute_result"
    }
   ],
   "source": [
    "df.tail"
   ]
  },
  {
   "cell_type": "code",
   "execution_count": 22,
   "id": "5fec232e",
   "metadata": {},
   "outputs": [
    {
     "data": {
      "text/html": [
       "<div>\n",
       "<style scoped>\n",
       "    .dataframe tbody tr th:only-of-type {\n",
       "        vertical-align: middle;\n",
       "    }\n",
       "\n",
       "    .dataframe tbody tr th {\n",
       "        vertical-align: top;\n",
       "    }\n",
       "\n",
       "    .dataframe thead th {\n",
       "        text-align: right;\n",
       "    }\n",
       "</style>\n",
       "<table border=\"1\" class=\"dataframe\">\n",
       "  <thead>\n",
       "    <tr style=\"text-align: right;\">\n",
       "      <th></th>\n",
       "      <th>sl. No</th>\n",
       "      <th>national mortality rate(per 1000*lb)</th>\n",
       "      <th>infant mortality rate(per 1000 lb)</th>\n",
       "      <th>under 5 mortality rate(per 1000 lb)</th>\n",
       "    </tr>\n",
       "  </thead>\n",
       "  <tbody>\n",
       "    <tr>\n",
       "      <th>0</th>\n",
       "      <td>all india</td>\n",
       "      <td>26.0</td>\n",
       "      <td>39</td>\n",
       "      <td>45.0</td>\n",
       "    </tr>\n",
       "    <tr>\n",
       "      <th>1</th>\n",
       "      <td>madhya pradesh</td>\n",
       "      <td>35.0</td>\n",
       "      <td>52</td>\n",
       "      <td>65.0</td>\n",
       "    </tr>\n",
       "    <tr>\n",
       "      <th>2</th>\n",
       "      <td>assam</td>\n",
       "      <td>26.0</td>\n",
       "      <td>49</td>\n",
       "      <td>66.0</td>\n",
       "    </tr>\n",
       "    <tr>\n",
       "      <th>3</th>\n",
       "      <td>odisha</td>\n",
       "      <td>36.0</td>\n",
       "      <td>49</td>\n",
       "      <td>60.0</td>\n",
       "    </tr>\n",
       "    <tr>\n",
       "      <th>4</th>\n",
       "      <td>uttar pradesh</td>\n",
       "      <td>32.0</td>\n",
       "      <td>48</td>\n",
       "      <td>57.0</td>\n",
       "    </tr>\n",
       "  </tbody>\n",
       "</table>\n",
       "</div>"
      ],
      "text/plain": [
       "           sl. No  national mortality rate(per 1000*lb)  \\\n",
       "0       all india                                  26.0   \n",
       "1  madhya pradesh                                  35.0   \n",
       "2           assam                                  26.0   \n",
       "3          odisha                                  36.0   \n",
       "4   uttar pradesh                                  32.0   \n",
       "\n",
       "   infant mortality rate(per 1000 lb)  under 5 mortality rate(per 1000 lb)  \n",
       "0                                  39                                 45.0  \n",
       "1                                  52                                 65.0  \n",
       "2                                  49                                 66.0  \n",
       "3                                  49                                 60.0  \n",
       "4                                  48                                 57.0  "
      ]
     },
     "execution_count": 22,
     "metadata": {},
     "output_type": "execute_result"
    }
   ],
   "source": [
    "df.head()"
   ]
  },
  {
   "cell_type": "code",
   "execution_count": 23,
   "id": "85f03486",
   "metadata": {},
   "outputs": [
    {
     "name": "stdout",
     "output_type": "stream",
     "text": [
      "<class 'pandas.core.frame.DataFrame'>\n",
      "RangeIndex: 13 entries, 0 to 12\n",
      "Data columns (total 4 columns):\n",
      " #   Column                                Non-Null Count  Dtype  \n",
      "---  ------                                --------------  -----  \n",
      " 0   sl. No                                13 non-null     object \n",
      " 1   national mortality rate(per 1000*lb)  12 non-null     float64\n",
      " 2   infant mortality rate(per 1000 lb)    13 non-null     int64  \n",
      " 3   under 5 mortality rate(per 1000 lb)   12 non-null     float64\n",
      "dtypes: float64(2), int64(1), object(1)\n",
      "memory usage: 544.0+ bytes\n"
     ]
    }
   ],
   "source": [
    "df.info()"
   ]
  },
  {
   "cell_type": "code",
   "execution_count": 26,
   "id": "10097730",
   "metadata": {},
   "outputs": [
    {
     "data": {
      "text/html": [
       "<div>\n",
       "<style scoped>\n",
       "    .dataframe tbody tr th:only-of-type {\n",
       "        vertical-align: middle;\n",
       "    }\n",
       "\n",
       "    .dataframe tbody tr th {\n",
       "        vertical-align: top;\n",
       "    }\n",
       "\n",
       "    .dataframe thead th {\n",
       "        text-align: right;\n",
       "    }\n",
       "</style>\n",
       "<table border=\"1\" class=\"dataframe\">\n",
       "  <thead>\n",
       "    <tr style=\"text-align: right;\">\n",
       "      <th></th>\n",
       "      <th>sl. No</th>\n",
       "      <th>national mortality rate(per 1000*lb)</th>\n",
       "      <th>infant mortality rate(per 1000 lb)</th>\n",
       "      <th>under 5 mortality rate(per 1000 lb)</th>\n",
       "    </tr>\n",
       "  </thead>\n",
       "  <tbody>\n",
       "    <tr>\n",
       "      <th>0</th>\n",
       "      <td>all india</td>\n",
       "      <td>26.0</td>\n",
       "      <td>39</td>\n",
       "      <td>45.0</td>\n",
       "    </tr>\n",
       "    <tr>\n",
       "      <th>1</th>\n",
       "      <td>madhya pradesh</td>\n",
       "      <td>35.0</td>\n",
       "      <td>52</td>\n",
       "      <td>65.0</td>\n",
       "    </tr>\n",
       "    <tr>\n",
       "      <th>2</th>\n",
       "      <td>assam</td>\n",
       "      <td>26.0</td>\n",
       "      <td>49</td>\n",
       "      <td>66.0</td>\n",
       "    </tr>\n",
       "    <tr>\n",
       "      <th>3</th>\n",
       "      <td>odisha</td>\n",
       "      <td>36.0</td>\n",
       "      <td>49</td>\n",
       "      <td>60.0</td>\n",
       "    </tr>\n",
       "    <tr>\n",
       "      <th>4</th>\n",
       "      <td>uttar pradesh</td>\n",
       "      <td>32.0</td>\n",
       "      <td>48</td>\n",
       "      <td>57.0</td>\n",
       "    </tr>\n",
       "  </tbody>\n",
       "</table>\n",
       "</div>"
      ],
      "text/plain": [
       "           sl. No  national mortality rate(per 1000*lb)  \\\n",
       "0       all india                                  26.0   \n",
       "1  madhya pradesh                                  35.0   \n",
       "2           assam                                  26.0   \n",
       "3          odisha                                  36.0   \n",
       "4   uttar pradesh                                  32.0   \n",
       "\n",
       "   infant mortality rate(per 1000 lb)  under 5 mortality rate(per 1000 lb)  \n",
       "0                                  39                                 45.0  \n",
       "1                                  52                                 65.0  \n",
       "2                                  49                                 66.0  \n",
       "3                                  49                                 60.0  \n",
       "4                                  48                                 57.0  "
      ]
     },
     "execution_count": 26,
     "metadata": {},
     "output_type": "execute_result"
    }
   ],
   "source": [
    "df.head()"
   ]
  },
  {
   "cell_type": "code",
   "execution_count": 27,
   "id": "014ab172",
   "metadata": {},
   "outputs": [
    {
     "data": {
      "text/plain": [
       "<pandas.core.indexing._AtIndexer at 0x18224528950>"
      ]
     },
     "execution_count": 27,
     "metadata": {},
     "output_type": "execute_result"
    }
   ],
   "source": [
    "df.at"
   ]
  },
  {
   "cell_type": "code",
   "execution_count": 28,
   "id": "fab2e732",
   "metadata": {},
   "outputs": [
    {
     "data": {
      "text/plain": [
       "<pandas.core.indexing._iAtIndexer at 0x18221a31770>"
      ]
     },
     "execution_count": 28,
     "metadata": {},
     "output_type": "execute_result"
    }
   ],
   "source": [
    "df.iat"
   ]
  },
  {
   "cell_type": "code",
   "execution_count": 30,
   "id": "246b969a",
   "metadata": {},
   "outputs": [
    {
     "data": {
      "text/plain": [
       "<pandas.core.indexing._LocIndexer at 0x18221a799f0>"
      ]
     },
     "execution_count": 30,
     "metadata": {},
     "output_type": "execute_result"
    }
   ],
   "source": [
    "df.loc()"
   ]
  },
  {
   "cell_type": "code",
   "execution_count": 40,
   "id": "2f868b3c",
   "metadata": {},
   "outputs": [
    {
     "data": {
      "text/plain": [
       "float64    2\n",
       "object     1\n",
       "int64      1\n",
       "dtype: int64"
      ]
     },
     "execution_count": 40,
     "metadata": {},
     "output_type": "execute_result"
    }
   ],
   "source": [
    "df.dtypes.value_counts()"
   ]
  },
  {
   "cell_type": "code",
   "execution_count": 41,
   "id": "c2bcd414",
   "metadata": {},
   "outputs": [
    {
     "data": {
      "text/html": [
       "<div>\n",
       "<style scoped>\n",
       "    .dataframe tbody tr th:only-of-type {\n",
       "        vertical-align: middle;\n",
       "    }\n",
       "\n",
       "    .dataframe tbody tr th {\n",
       "        vertical-align: top;\n",
       "    }\n",
       "\n",
       "    .dataframe thead th {\n",
       "        text-align: right;\n",
       "    }\n",
       "</style>\n",
       "<table border=\"1\" class=\"dataframe\">\n",
       "  <thead>\n",
       "    <tr style=\"text-align: right;\">\n",
       "      <th></th>\n",
       "      <th>national mortality rate(per 1000*lb)</th>\n",
       "      <th>under 5 mortality rate(per 1000 lb)</th>\n",
       "    </tr>\n",
       "  </thead>\n",
       "  <tbody>\n",
       "    <tr>\n",
       "      <th>0</th>\n",
       "      <td>26.0</td>\n",
       "      <td>45.0</td>\n",
       "    </tr>\n",
       "    <tr>\n",
       "      <th>1</th>\n",
       "      <td>35.0</td>\n",
       "      <td>65.0</td>\n",
       "    </tr>\n",
       "    <tr>\n",
       "      <th>2</th>\n",
       "      <td>26.0</td>\n",
       "      <td>66.0</td>\n",
       "    </tr>\n",
       "    <tr>\n",
       "      <th>3</th>\n",
       "      <td>36.0</td>\n",
       "      <td>60.0</td>\n",
       "    </tr>\n",
       "    <tr>\n",
       "      <th>4</th>\n",
       "      <td>32.0</td>\n",
       "      <td>57.0</td>\n",
       "    </tr>\n",
       "    <tr>\n",
       "      <th>5</th>\n",
       "      <td>32.0</td>\n",
       "      <td>51.0</td>\n",
       "    </tr>\n",
       "    <tr>\n",
       "      <th>6</th>\n",
       "      <td>NaN</td>\n",
       "      <td>NaN</td>\n",
       "    </tr>\n",
       "    <tr>\n",
       "      <th>7</th>\n",
       "      <td>28.0</td>\n",
       "      <td>49.0</td>\n",
       "    </tr>\n",
       "    <tr>\n",
       "      <th>8</th>\n",
       "      <td>27.0</td>\n",
       "      <td>53.0</td>\n",
       "    </tr>\n",
       "    <tr>\n",
       "      <th>9</th>\n",
       "      <td>26.0</td>\n",
       "      <td>40.0</td>\n",
       "    </tr>\n",
       "    <tr>\n",
       "      <th>10</th>\n",
       "      <td>23.0</td>\n",
       "      <td>40.0</td>\n",
       "    </tr>\n",
       "    <tr>\n",
       "      <th>11</th>\n",
       "      <td>24.0</td>\n",
       "      <td>41.0</td>\n",
       "    </tr>\n",
       "    <tr>\n",
       "      <th>12</th>\n",
       "      <td>25.0</td>\n",
       "      <td>37.0</td>\n",
       "    </tr>\n",
       "  </tbody>\n",
       "</table>\n",
       "</div>"
      ],
      "text/plain": [
       "    national mortality rate(per 1000*lb)  under 5 mortality rate(per 1000 lb)\n",
       "0                                   26.0                                 45.0\n",
       "1                                   35.0                                 65.0\n",
       "2                                   26.0                                 66.0\n",
       "3                                   36.0                                 60.0\n",
       "4                                   32.0                                 57.0\n",
       "5                                   32.0                                 51.0\n",
       "6                                    NaN                                  NaN\n",
       "7                                   28.0                                 49.0\n",
       "8                                   27.0                                 53.0\n",
       "9                                   26.0                                 40.0\n",
       "10                                  23.0                                 40.0\n",
       "11                                  24.0                                 41.0\n",
       "12                                  25.0                                 37.0"
      ]
     },
     "execution_count": 41,
     "metadata": {},
     "output_type": "execute_result"
    }
   ],
   "source": [
    "df.select_dtypes(exclude=[object,int])"
   ]
  },
  {
   "cell_type": "code",
   "execution_count": 42,
   "id": "f83bf231",
   "metadata": {},
   "outputs": [
    {
     "data": {
      "text/plain": [
       "array([26., 35., 36., 32., nan, 28., 27., 23., 24., 25.])"
      ]
     },
     "execution_count": 42,
     "metadata": {},
     "output_type": "execute_result"
    }
   ],
   "source": [
    "df['national mortality rate(per 1000*lb)'].unique()"
   ]
  },
  {
   "cell_type": "code",
   "execution_count": 49,
   "id": "e548771b",
   "metadata": {},
   "outputs": [
    {
     "data": {
      "text/plain": [
       "array([39, 52, 49, 48, 46, 43, 42, 36, 35], dtype=int64)"
      ]
     },
     "execution_count": 49,
     "metadata": {},
     "output_type": "execute_result"
    }
   ],
   "source": [
    "df['infant mortality rate(per 1000 lb)'].unique()"
   ]
  },
  {
   "cell_type": "code",
   "execution_count": 50,
   "id": "0082e79d",
   "metadata": {},
   "outputs": [
    {
     "data": {
      "text/plain": [
       "array([45., 65., 66., 60., 57., 51., nan, 49., 53., 40., 41., 37.])"
      ]
     },
     "execution_count": 50,
     "metadata": {},
     "output_type": "execute_result"
    }
   ],
   "source": [
    "df['under 5 mortality rate(per 1000 lb)'].unique()"
   ]
  },
  {
   "cell_type": "code",
   "execution_count": null,
   "id": "ee4799a8",
   "metadata": {},
   "outputs": [],
   "source": []
  }
 ],
 "metadata": {
  "kernelspec": {
   "display_name": "Python 3 (ipykernel)",
   "language": "python",
   "name": "python3"
  },
  "language_info": {
   "codemirror_mode": {
    "name": "ipython",
    "version": 3
   },
   "file_extension": ".py",
   "mimetype": "text/x-python",
   "name": "python",
   "nbconvert_exporter": "python",
   "pygments_lexer": "ipython3",
   "version": "3.9.13"
  }
 },
 "nbformat": 4,
 "nbformat_minor": 5
}
